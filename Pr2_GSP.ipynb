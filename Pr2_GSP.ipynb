{
 "cells": [
  {
   "attachments": {},
   "cell_type": "markdown",
   "metadata": {},
   "source": [
    "# Práctica 2: Patrones secuenciales"
   ]
  },
  {
   "attachments": {},
   "cell_type": "markdown",
   "metadata": {},
   "source": [
    "Imports necesarios para la realización de la práctica"
   ]
  },
  {
   "cell_type": "code",
   "execution_count": null,
   "metadata": {},
   "outputs": [],
   "source": [
    "import numpy as np\n",
    "import pandas as pd\n",
    "import sklearn as sk\n",
    "import mlxtend as mlx\n",
    "import apyori as apy\n",
    "import matplotlib as mpl"
   ]
  },
  {
   "attachments": {},
   "cell_type": "markdown",
   "metadata": {},
   "source": [
    "Pregunta Nº1:  Para la columna que contiene las secuencias de genes, generar una nueva columna (con la que trabajaremos posteriormente). Esta nueva columna debe contener los primeros dígitos de los genes siento este número aleatorio contenido en el intervalo [4-10], es decir, cortaremos las secuencias para que su longitud sea aleatoria entre 4 y 10 dígitos. (1 punto)"
   ]
  },
  {
   "attachments": {},
   "cell_type": "markdown",
   "metadata": {},
   "source": [
    "Pregunta Nº2: Comprueba que los datos son correctos: no hay clases vacías ni contenido repetido para la misma clase. (2 puntos)\n"
   ]
  },
  {
   "attachments": {},
   "cell_type": "markdown",
   "metadata": {},
   "source": [
    "Pregunta Nº3: Prueba al menos dos configuraciones de soporte diferentes. (1 punto)"
   ]
  },
  {
   "attachments": {},
   "cell_type": "markdown",
   "metadata": {},
   "source": [
    "Pregunta Nº4: Para una de ellas, interpreta algunos de los patrones secuenciales que te resulten curiosos. (1 punto)"
   ]
  }
 ],
 "metadata": {
  "kernelspec": {
   "display_name": "base",
   "language": "python",
   "name": "python3"
  },
  "language_info": {
   "name": "python",
   "version": "3.9.13"
  },
  "orig_nbformat": 4,
  "vscode": {
   "interpreter": {
    "hash": "e974188ac351f3e50a06a960f01b7a5d333e67e7c2eb9e1f0dbc77d7c50d1d04"
   }
  }
 },
 "nbformat": 4,
 "nbformat_minor": 2
}
