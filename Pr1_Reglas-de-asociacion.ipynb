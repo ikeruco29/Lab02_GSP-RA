{
 "cells": [
  {
   "attachments": {},
   "cell_type": "markdown",
   "metadata": {},
   "source": [
    "# Práctica 1: Reglas de asociación"
   ]
  },
  {
   "attachments": {},
   "cell_type": "markdown",
   "metadata": {},
   "source": [
    "Imports necesarios para la realización de la práctica"
   ]
  },
  {
   "cell_type": "code",
   "execution_count": null,
   "metadata": {},
   "outputs": [],
   "source": [
    "import numpy as np\n",
    "import pandas as pd\n",
    "import sklearn as sk\n",
    "import mlxtend as mlx\n",
    "import apyori as apy\n",
    "import matplotlib as mpl\n",
    "from mlxtend.preprocessing import TransactionEncoder\n",
    "from mlxtend.frequent_patterns import apriori\n",
    "from mlxtend.frequent_patterns import association_rules"
   ]
  },
  {
   "cell_type": "code",
   "execution_count": null,
   "metadata": {},
   "outputs": [],
   "source": [
    "itemsetOG = pd.read_csv(\"BlackFriday.csv\")\n",
    "#itemset = itemsetOG.sample(frac=0.001)\n",
    "itemset = itemsetOG.sample(20)\n",
    "itemset"
   ]
  },
  {
   "attachments": {},
   "cell_type": "markdown",
   "metadata": {},
   "source": [
    "#### Pregunta Nº1: Prueba al menos tres configuraciones de soporte y frecuencia para cada género, edad y tipo de producto. (1 punto)\n"
   ]
  },
  {
   "cell_type": "code",
   "execution_count": null,
   "metadata": {},
   "outputs": [],
   "source": [
    "# Hiperparámetros\n",
    "min_support_edad = [0.01, 0.05, 0.1]\n",
    "min_confidence_edad = [0.7, 0.5, 0.2]\n",
    "\n",
    "min_support_tprod = [0.01, 0.05, 0.1]\n",
    "min_confidence_tprod = [0.7, 0.5, 0.2]\n",
    "\n",
    "min_support_genero = [0.3, 0.4, 0.5]\n",
    "min_confidence_genero = [0.7, 0.5, 0.2]\n"
   ]
  },
  {
   "attachments": {},
   "cell_type": "markdown",
   "metadata": {},
   "source": [
    "Configuraciones de soporte y frecuencia"
   ]
  },
  {
   "attachments": {},
   "cell_type": "markdown",
   "metadata": {},
   "source": [
    "- Para Edad:"
   ]
  },
  {
   "cell_type": "code",
   "execution_count": null,
   "metadata": {},
   "outputs": [],
   "source": [
    "tablaEdad = itemset[['Product_ID', 'Age']].dropna().drop_duplicates()\n",
    "tablaEdad = tablaEdad.groupby('Age').agg(lambda x: list(x)).reset_index()\n",
    "tablaEdad"
   ]
  },
  {
   "cell_type": "code",
   "execution_count": null,
   "metadata": {},
   "outputs": [],
   "source": [
    "te = TransactionEncoder()\n",
    "te_ary = te.fit(tablaEdad['Product_ID'].to_list()).transform(tablaEdad['Product_ID'].to_list())\n",
    "df_edad = pd.DataFrame(te_ary, columns=te.columns_)\n",
    "df_edad\n",
    "cont = 0\n",
    "for i in min_support_edad:\n",
    "    print(\"Para min_support = \" + str(i) + \" y min_confidence = \" + str(min_confidence_edad[cont]) + \":\")\n",
    "    frequent_itemsets_edad = apriori(df_edad, min_support=i, use_colnames=True, verbose=1)\n",
    "    print(frequent_itemsets_edad)\n",
    "    print(\"\")\n",
    "\n",
    "    if frequent_itemsets_edad.empty:\n",
    "        print(\"No hay reglas de asociación que cumplan con los requisitos.\")\n",
    "    else:\n",
    "        rules_edad = association_rules(frequent_itemsets_edad, metric=\"confidence\", min_threshold=min_confidence_edad[cont])\n",
    "        print(rules_edad)\n",
    "\n",
    "    print(\"\")\n",
    "    cont = cont + 1\n"
   ]
  },
  {
   "cell_type": "code",
   "execution_count": null,
   "metadata": {},
   "outputs": [],
   "source": [
    "#pruebas con apyori (no funciona)\n",
    "\n",
    "# frequent_itemsets_edad = list(apy.apriori(tablaEdad['Product_ID'], min_support=0.16667))\n",
    "# frequent_itemsets_edad"
   ]
  },
  {
   "attachments": {},
   "cell_type": "markdown",
   "metadata": {},
   "source": [
    "- Para Tipo de producto 1:"
   ]
  },
  {
   "cell_type": "code",
   "execution_count": null,
   "metadata": {},
   "outputs": [],
   "source": [
    "tablaTProd1 = itemset[['Product_ID', 'Product_Category_1']].dropna().drop_duplicates()\n",
    "tablaTProd1 = tablaTProd1.groupby('Product_Category_1').agg(lambda x: list(x)).reset_index()\n",
    "tablaTProd1"
   ]
  },
  {
   "cell_type": "code",
   "execution_count": null,
   "metadata": {},
   "outputs": [],
   "source": [
    "te = TransactionEncoder()\n",
    "te_ary = te.fit(tablaTProd1['Product_ID'].to_list()).transform(tablaTProd1['Product_ID'].to_list())\n",
    "df_tprod1 = pd.DataFrame(te_ary, columns=te.columns_)\n",
    "df_tprod1\n",
    "\n",
    "cont = 0\n",
    "for i in min_support_tprod:\n",
    "    print(\"Para min_support = \" + str(i) + \" y min_confidence = \" + str(min_confidence_tprod[cont]) + \":\")\n",
    "    frequent_itemsets_tprod1 = apriori(df_tprod1, min_support=i, use_colnames=True, verbose=1)\n",
    "    print(frequent_itemsets_tprod1)\n",
    "    print(\"\")\n",
    "\n",
    "    if frequent_itemsets_tprod1.empty:\n",
    "        print(\"No hay reglas de asociación que cumplan con los requisitos.\")\n",
    "    else:\n",
    "        rules_tprod1 = association_rules(frequent_itemsets_tprod1, metric=\"confidence\", min_threshold=min_confidence_tprod[cont])\n",
    "        print(rules_tprod1)\n",
    "\n",
    "    print(\"\")\n",
    "    cont = cont + 1"
   ]
  },
  {
   "attachments": {},
   "cell_type": "markdown",
   "metadata": {},
   "source": [
    "- Para Tipo de producto 2:"
   ]
  },
  {
   "cell_type": "code",
   "execution_count": null,
   "metadata": {},
   "outputs": [],
   "source": [
    "tablaTProd2 = itemset[['Product_ID', 'Product_Category_2']].dropna().drop_duplicates()\n",
    "tablaTProd2 = tablaTProd2.groupby('Product_Category_2').agg(lambda x: list(x)).reset_index()\n",
    "tablaTProd2"
   ]
  },
  {
   "cell_type": "code",
   "execution_count": null,
   "metadata": {},
   "outputs": [],
   "source": [
    "te = TransactionEncoder()\n",
    "te_ary = te.fit(tablaTProd2['Product_ID'].to_list()).transform(tablaTProd2['Product_ID'].to_list())\n",
    "df_tprod2 = pd.DataFrame(te_ary, columns=te.columns_)\n",
    "df_tprod2\n",
    "\n",
    "cont = 0\n",
    "for i in min_support_tprod:\n",
    "    print(\"Para min_support = \" + str(i) + \" y min_confidence = \" + str(min_confidence_tprod[cont]) + \":\")\n",
    "    frequent_itemsets_tprod2 = apriori(df_tprod2, min_support=i, use_colnames=True, verbose=1)\n",
    "    print(frequent_itemsets_tprod2)\n",
    "    print(\"\")\n",
    "    \n",
    "    if frequent_itemsets_tprod2.empty:\n",
    "        print(\"No hay reglas de asociación que cumplan con los requisitos.\")\n",
    "    else:\n",
    "        rules_tprod2 = association_rules(frequent_itemsets_tprod2, metric=\"confidence\", min_threshold=min_confidence_tprod[cont])\n",
    "        print(rules_tprod2)\n",
    "\n",
    "    print(\"\")\n",
    "    cont = cont + 1\n"
   ]
  },
  {
   "attachments": {},
   "cell_type": "markdown",
   "metadata": {},
   "source": [
    "- Para Tipo de producto 3:"
   ]
  },
  {
   "cell_type": "code",
   "execution_count": null,
   "metadata": {},
   "outputs": [],
   "source": [
    "tablaTProd3 = itemset[['Product_ID', 'Product_Category_3']].dropna().drop_duplicates()\n",
    "tablaTProd3 = tablaTProd3.groupby('Product_Category_3').agg(lambda x: list(x)).reset_index()\n",
    "tablaTProd3"
   ]
  },
  {
   "cell_type": "code",
   "execution_count": null,
   "metadata": {},
   "outputs": [],
   "source": [
    "te = TransactionEncoder()\n",
    "te_ary = te.fit(tablaTProd3['Product_ID'].to_list()).transform(tablaTProd3['Product_ID'].to_list())\n",
    "df_tprod3 = pd.DataFrame(te_ary, columns=te.columns_)\n",
    "df_tprod3\n",
    "\n",
    "cont = 0\n",
    "for i in min_support_tprod:\n",
    "    print(\"Para min_support = \" + str(i) + \" y min_confidence = \" + str(min_confidence_tprod[cont]) + \":\")\n",
    "    frequent_itemsets_tprod3 = apriori(df_tprod3, min_support=i, use_colnames=True, verbose=1)\n",
    "    print(frequent_itemsets_tprod3)\n",
    "    print(\"\")\n",
    "\n",
    "    if frequent_itemsets_tprod3.empty:\n",
    "        print(\"No hay reglas de asociación que cumplan con los requisitos.\")\n",
    "    else:\n",
    "        rules_tprod3 = association_rules(frequent_itemsets_tprod3, metric=\"confidence\", min_threshold=min_confidence_tprod[cont])\n",
    "        print(rules_tprod3)\n",
    "\n",
    "    print(\"\")\n",
    "    cont = cont + 1"
   ]
  },
  {
   "cell_type": "code",
   "execution_count": null,
   "metadata": {},
   "outputs": [],
   "source": [
    "tablaGenero = itemset[['Product_ID', 'Gender']].dropna().drop_duplicates()\n",
    "tablaGenero = tablaGenero.groupby('Gender').agg(lambda x: list(x)).reset_index()\n",
    "tablaGenero"
   ]
  },
  {
   "cell_type": "code",
   "execution_count": null,
   "metadata": {},
   "outputs": [],
   "source": [
    "te = TransactionEncoder()\n",
    "te_ary = te.fit(tablaGenero['Product_ID'].to_list()).transform(tablaGenero['Product_ID'].to_list())\n",
    "df_genero = pd.DataFrame(te_ary, columns=te.columns_)\n",
    "df_genero\n",
    "\n",
    "cont = 0\n",
    "for i in min_support_genero:\n",
    "    print(\"Para min_support = \" + str(i) + \" y min_confidence = \" + str(min_confidence_genero[cont]) + \":\")\n",
    "    frequent_itemsets_genero = apriori(df_genero, min_support=i, use_colnames=True, verbose=1)\n",
    "    print(frequent_itemsets_genero)\n",
    "    print(\"\")\n",
    "\n",
    "    if frequent_itemsets_genero.empty:\n",
    "        print(\"No hay reglas de asociación que cumplan con los requisitos.\")\n",
    "    else:\n",
    "        rules_genero = association_rules(frequent_itemsets_genero, metric=\"confidence\", min_threshold=min_confidence_genero[cont])\n",
    "        print(rules_genero)\n",
    "\n",
    "    print(\"\")\n",
    "    cont = cont + 1\n"
   ]
  },
  {
   "attachments": {},
   "cell_type": "markdown",
   "metadata": {},
   "source": [
    "#### Pregunta Nº2: ¿Qué diferencias hay entre usar soporte y frecuencia? Respalda la respuesta con datos (1 punto)"
   ]
  },
  {
   "attachments": {},
   "cell_type": "markdown",
   "metadata": {},
   "source": [
    "#### Pregunta Nº3: ¿Qué tipo reglas desaparecen según la configuración y categorías (género, edad y tipo de producto) consideradas? ¿Por qué? (1 punto)"
   ]
  },
  {
   "attachments": {},
   "cell_type": "markdown",
   "metadata": {},
   "source": [
    "#### Pregunta Nº4: Para una de las configuraciones, interpreta algunas de las reglas que te hayan resultado interesantes obtenidas usando la clase association_rules y un par de configuraciones cambiando la variable metric y min_threshold. Justifica los resultados. (1 punto)\n"
   ]
  },
  {
   "attachments": {},
   "cell_type": "markdown",
   "metadata": {},
   "source": [
    "#### Pregunta Nº5: Dadas las mejores configuraciones. ¿Existen reglas o patrones que se repitan? ¿Podemos generalizar de alguna manera como se comportan los clientes? Expón las conclusiones respaldadas con datos (1 punto)"
   ]
  }
 ],
 "metadata": {
  "kernelspec": {
   "display_name": "base",
   "language": "python",
   "name": "python3"
  },
  "language_info": {
   "codemirror_mode": {
    "name": "ipython",
    "version": 3
   },
   "file_extension": ".py",
   "mimetype": "text/x-python",
   "name": "python",
   "nbconvert_exporter": "python",
   "pygments_lexer": "ipython3",
   "version": "3.9.13"
  },
  "orig_nbformat": 4,
  "vscode": {
   "interpreter": {
    "hash": "e974188ac351f3e50a06a960f01b7a5d333e67e7c2eb9e1f0dbc77d7c50d1d04"
   }
  }
 },
 "nbformat": 4,
 "nbformat_minor": 2
}
